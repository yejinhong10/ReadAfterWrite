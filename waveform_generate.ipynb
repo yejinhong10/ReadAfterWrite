{
 "cells": [
  {
   "cell_type": "code",
   "execution_count": 2,
   "id": "f73549a6",
   "metadata": {},
   "outputs": [],
   "source": [
    "import os\n",
    "import glob\n",
    "import numpy as np\n",
    "import re\n",
    "\n",
    "import matplotlib as mpl\n",
    "import matplotlib.pyplot as plt\n",
    "import matplotlib.cm as cm\n",
    "from matplotlib import rcParams\n",
    "import matplotlib.font_manager\n",
    "from matplotlib.font_manager import FontProperties\n",
    "from matplotlib.ticker import (MultipleLocator, FormatStrFormatter,AutoMinorLocator)\n",
    "\n",
    "from cycler import cycler\n",
    "\n",
    "from scipy.signal import savgol_filter\n",
    "\n",
    "import scipy.integrate as integrate\n",
    "from scipy.integrate import cumtrapz\n",
    "from scipy.interpolate import interp1d\n",
    "from scipy.optimize import curve_fit\n",
    "from scipy.optimize import leastsq\n",
    "from scipy.optimize import least_squares\n",
    "from scipy.signal import savgol_filter\n",
    "\n",
    "import pandas as pd"
   ]
  },
  {
   "cell_type": "code",
   "execution_count": 6,
   "id": "6b08f76a",
   "metadata": {},
   "outputs": [],
   "source": [
    "def gen_wvfm(Vprogram, Verase, Tdelay_start, Tdelay_end, num_step, Tread, Twait, Trf, Tpw, Vread, Vdrain, points, ch1_range, ch2_range):\n",
    "    Tdelay = np.logspace(np.log10(Tdelay_start), np.log10(Tdelay_end), num=num_step)\n",
    "    \n",
    "    T = [0, Twait, Trf, Tpw, Trf, Twait]\n",
    "    V = [0, 0, Verase, Verase, 0, 0]\n",
    "    Vd = [0, 0, 0, 0, 0, 0]\n",
    "    \n",
    "    tm = []\n",
    "    m2 = []\n",
    "    m3 = []\n",
    "    m4 = []\n",
    "    m5 = []\n",
    "    m6 = []\n",
    "    \n",
    "    for i in range(len(Tdelay)): \n",
    "        T.append(Trf)\n",
    "        V.append(Vprogram)\n",
    "        Vd.append(0)\n",
    "        \n",
    "        T.append(Tpw)\n",
    "        V.append(Vprogram)\n",
    "        Vd.append(0)\n",
    "        \n",
    "        T.append(Trf)\n",
    "        V.append(0)\n",
    "        Vd.append(0)\n",
    "     \n",
    "        T.append(Tdelay[i])\n",
    "        V.append(0)\n",
    "        Vd.append(0)\n",
    "        \n",
    "        T.append(Trf)\n",
    "        V.append(0)\n",
    "        Vd.append(Vdrain)\n",
    "        \n",
    "        T.append(Tread)\n",
    "        V.append(Vread)\n",
    "        Vd.append(Vdrain)\n",
    "        \n",
    "        T.append(Trf)\n",
    "        V.append(0)\n",
    "        Vd.append(0)\n",
    "        \n",
    "        T.append(Twait)\n",
    "        V.append(0)\n",
    "        Vd.append(0)\n",
    "        \n",
    "        T.append(Trf)\n",
    "        V.append(Verase)\n",
    "        Vd.append(0)\n",
    "        \n",
    "        T.append(Tpw)\n",
    "        V.append(Verase)\n",
    "        Vd.append(0)\n",
    "        \n",
    "        T.append(Trf)\n",
    "        V.append(0)\n",
    "        Vd.append(0)\n",
    "        \n",
    "        T.append(Tdelay[i])\n",
    "        V.append(0)\n",
    "        Vd.append(0)\n",
    "        \n",
    "        T.append(Trf)\n",
    "        V.append(0)\n",
    "        Vd.append(Vdrain)\n",
    "        \n",
    "        T.append(Tread)\n",
    "        V.append(Vread)\n",
    "        Vd.append(Vdrain)\n",
    "        \n",
    "        \n",
    "        T.append(Trf)\n",
    "        V.append(0)\n",
    "        Vd.append(0)\n",
    "        \n",
    "        T.append(Twait)\n",
    "        V.append(0)\n",
    "        Vd.append(0)\n",
    "        \n",
    "    \n",
    "    T_cum = np.cumsum(T, axis=0)\n",
    "    tm = T_cum[10::8]\n",
    "    m2 = np.repeat(points,2*len(Tdelay))\n",
    "    m3 = np.repeat(Tread/points,2*len(Tdelay))\n",
    "    m4 = np.repeat(Tread/points,2*len(Tdelay))\n",
    "    m5 = np.repeat(ch1_range,2*len(Tdelay))\n",
    "    m6 = np.repeat(ch2_range,2*len(Tdelay))\n",
    "        \n",
    "    waveform_file = np.column_stack([T_cum,V,Vd])\n",
    "    meas_event = np.column_stack([tm,m2,m3,m4,m5,m6])\n",
    "    filename = \"ReadAfterWrite_Vwrite({Vprogram}V_{Verase}V_{Tpw}s)_Vread({Vread}V_{Tread:.1e}s_{points}pts)_Tdelay({Tdelay_start}s_{Tdelay_end}s_{num_step}steps)\".format(\n",
    "                Vprogram = Vprogram, Verase = Verase, Tpw = Tpw, Vread = Vread, Tread = Tread, \n",
    "                points = points, Tdelay_start = Tdelay_start, Tdelay_end = Tdelay_end, num_step = num_step)\n",
    "    np.savetxt(filename+\"_Vgd-t.csv\", waveform_file,fmt='%.12f',delimiter=',')\n",
    "    np.savetxt(filename+\"_meas_event.csv\",meas_event,fmt='%.5f',delimiter=',')\n",
    "    return T_cum, V, Vd"
   ]
  },
  {
   "cell_type": "code",
   "execution_count": 147,
   "id": "3c7ed6d8",
   "metadata": {},
   "outputs": [
    {
     "name": "stdout",
     "output_type": "stream",
     "text": [
      "(20, 6)\n"
     ]
    }
   ],
   "source": [
    "delay_end=10, num_step=10,\n",
    "         Tread=5e-4, Twait=1e-5, Trf=5e-8, Tpw=1e-5, Vread=2, Vdrain=0.05, points=200, ch1_range=0, ch2_range=2)"
   ]
  },
  {
   "cell_type": "code",
   "execution_count": 85,
   "id": "c6e1c12b",
   "metadata": {},
   "outputs": [
    {
     "data": {
      "text/plain": [
       "(-4.0, 4.0)"
      ]
     },
     "execution_count": 85,
     "metadata": {},
     "output_type": "execute_result"
    },
    {
     "data": {
      "image/png": "[encoded data removed]",
      "text/plain": [
       "<Figure size 640x480 with 1 Axes>"
      ]
     },
     "metadata": {},
     "output_type": "display_data"
    }
   ],
   "source": []
  },
  {
   "cell_type": "code",
   "execution_count": 118,
   "id": "546c93bf",
   "metadata": {},
   "outputs": [
    {
     "data": {
      "text/plain": [
       "'test(10-ns)'"
      ]
     },
     "execution_count": 118,
     "metadata": {},
     "output_type": "execute_result"
    }
   ],
   "source": [
    "'test({pulsewidth}-ns)'.format(pulsewidth=10)\n"
   ]
  },
  {
   "cell_type": "code",
   "execution_count": 154,
   "id": "01958bbb",
   "metadata": {},
   "outputs": [],
   "source": [
    "os.chdir('/Users/yejinhong/FeFET waveform/Waveforms_Vread_2')"
   ]
  },
  {
   "cell_type": "code",
   "execution_count": 4,
   "id": "ae929669",
   "metadata": {},
   "outputs": [
    {
     "ename": "NameError",
     "evalue": "name 'np' is not defined",
     "output_type": "error",
     "traceback": [
      "\u001b[0;31m---------------------------------------------------------------------------\u001b[0m",
      "\u001b[0;31mNameError\u001b[0m                                 Traceback (most recent call last)",
      "Cell \u001b[0;32mIn [4], line 2\u001b[0m\n\u001b[1;32m      1\u001b[0m \u001b[38;5;66;03m## nFET 10 us symmetric program-erase\u001b[39;00m\n\u001b[0;32m----> 2\u001b[0m Vg \u001b[38;5;241m=\u001b[39m \u001b[43mnp\u001b[49m\u001b[38;5;241m.\u001b[39marray([\u001b[38;5;241m2.5\u001b[39m, \u001b[38;5;241m3.0\u001b[39m, \u001b[38;5;241m3.5\u001b[39m, \u001b[38;5;241m4.0\u001b[39m, \u001b[38;5;241m4.5\u001b[39m, \u001b[38;5;241m5.0\u001b[39m])\n\u001b[1;32m      3\u001b[0m \u001b[38;5;28;01mfor\u001b[39;00m Vg \u001b[38;5;129;01min\u001b[39;00m Vg: \n\u001b[1;32m      4\u001b[0m     gen_wvfm(Vprogram\u001b[38;5;241m=\u001b[39mVg, Verase\u001b[38;5;241m=\u001b[39m\u001b[38;5;241m-\u001b[39mVg, Tdelay_start\u001b[38;5;241m=\u001b[39m\u001b[38;5;241m10e-9\u001b[39m, Tdelay_end\u001b[38;5;241m=\u001b[39m\u001b[38;5;241m10\u001b[39m, num_step\u001b[38;5;241m=\u001b[39m\u001b[38;5;241m10\u001b[39m,\n\u001b[1;32m      5\u001b[0m          Tread\u001b[38;5;241m=\u001b[39m\u001b[38;5;241m5e-4\u001b[39m, Twait\u001b[38;5;241m=\u001b[39m\u001b[38;5;241m1e-5\u001b[39m, Trf\u001b[38;5;241m=\u001b[39m\u001b[38;5;241m5e-8\u001b[39m, Tpw\u001b[38;5;241m=\u001b[39m\u001b[38;5;241m1e-5\u001b[39m, Vread\u001b[38;5;241m=\u001b[39m\u001b[38;5;241m2\u001b[39m, Vdrain\u001b[38;5;241m=\u001b[39m\u001b[38;5;241m0.05\u001b[39m, points\u001b[38;5;241m=\u001b[39m\u001b[38;5;241m200\u001b[39m, ch1_range\u001b[38;5;241m=\u001b[39m\u001b[38;5;241m0\u001b[39m, ch2_range\u001b[38;5;241m=\u001b[39m\u001b[38;5;241m2\u001b[39m)\n",
      "\u001b[0;31mNameError\u001b[0m: name 'np' is not defined"
     ]
    }
   ],
   "source": [
    "## nFET 10 us symmetric program-erase\n",
    "Vg = np.array([2.5, 3.0, 3.5, 4.0, 4.5, 5.0])\n",
    "for Vg in Vg: \n",
    "    gen_wvfm(Vprogram=Vg, Verase=-Vg, Tdelay_start=10e-9, Tdelay_end=10, num_step=10,\n",
    "         Tread=5e-4, Twait=1e-5, Trf=5e-8, Tpw=1e-5, Vread=2, Vdrain=0.05, points=200, ch1_range=0, ch2_range=2)\n",
    "\n",
    "## nFET 1 us symmetric program-erase\n",
    "Vg = np.array([2.5, 3.0, 3.5, 4.0, 4.5, 5.0])\n",
    "for Vg in Vg: \n",
    "    gen_wvfm(Vprogram=Vg, Verase=-Vg, Tdelay_start=10e-9, Tdelay_end=10, num_step=10,\n",
    "         Tread=5e-4, Twait=1e-5, Trf=5e-8, Tpw=1e-6, Vread=2, Vdrain=0.05, points=200, ch1_range=0, ch2_range=2)\n",
    "\n",
    "## nFET 100 ns symmetric program-erase\n",
    "Vg = np.array([2.5, 3.0, 3.5, 4.0, 4.5, 5.0])\n",
    "for Vg in Vg: \n",
    "    gen_wvfm(Vprogram=Vg, Verase=-Vg, Tdelay_start=10e-9, Tdelay_end=10, num_step=10,\n",
    "         Tread=5e-4, Twait=1e-5, Trf=5e-8, Tpw=1e-7, Vread=2, Vdrain=0.05, points=200, ch1_range=0, ch2_range=2)"
   ]
  },
  {
   "cell_type": "code",
   "execution_count": 4,
   "id": "e58a2ab9",
   "metadata": {},
   "outputs": [],
   "source": [
    "location = \"/Users/yejinhong/FeFET waveform\"\n",
    "dir = \"pFET symmetric waveforms Vread 1.5\"\n",
    "path = os.path.join(location,dir)\n",
    "\n",
    "# Trying to create a location+dir directory.\n",
    "try: \n",
    "    os.mkdir(path) \n",
    "except OSError as error: \n",
    "    print(error) \n",
    "    \n",
    "os.chdir(path)\n",
    "\n",
    "\n",
    "## pFET 10 us symmetric program-erase\n",
    "Vg = np.array([1.5, 2.0, 2.5, 3.0, 3.5])\n",
    "for Vg in Vg: \n",
    "    gen_wvfm(Vprogram=-Vg, Verase=Vg, Tdelay_start=10e-9, Tdelay_end=10, num_step=10,\n",
    "         Tread=5e-4, Twait=1e-5, Trf=5e-8, Tpw=1e-5, Vread=-1.5, Vdrain=-0.05, points=200, ch1_range=0, ch2_range=2)\n",
    "\n",
    "## pFET 1 us symmetric program-erase\n",
    "Vg = np.array([1.5, 2.0, 2.5, 3.0, 3.5])\n",
    "for Vg in Vg: \n",
    "    gen_wvfm(Vprogram=-Vg, Verase=Vg, Tdelay_start=10e-9, Tdelay_end=10, num_step=10,\n",
    "         Tread=5e-4, Twait=1e-5, Trf=5e-8, Tpw=1e-6, Vread=-1.5, Vdrain=-0.05, points=200, ch1_range=0, ch2_range=2)\n",
    "\n",
    "## pFET 100 ns symmetric program-erase\n",
    "Vg = np.array([1.5, 2.0, 2.5, 3.0, 3.5])\n",
    "for Vg in Vg: \n",
    "    gen_wvfm(Vprogram=-Vg, Verase=Vg, Tdelay_start=10e-9, Tdelay_end=10, num_step=10,\n",
    "         Tread=5e-4, Twait=1e-5, Trf=5e-8, Tpw=1e-7, Vread=-1.5, Vdrain=-0.05, points=200, ch1_range=0, ch2_range=2)"
   ]
  },
  {
   "cell_type": "code",
   "execution_count": 164,
   "id": "ecb77c97",
   "metadata": {},
   "outputs": [],
   "source": [
    "location = \"/Users/yejinhong/FeFET waveform\"\n",
    "dir = \"nFET asymmetric waveforms\"\n",
    "path = os.path.join(location,dir)\n",
    "\n",
    "# Trying to create a location+dir directory.\n",
    "try: \n",
    "    os.mkdir(path) \n",
    "except OSError as error: \n",
    "    print(error) \n",
    "    \n",
    "os.chdir(path)\n",
    "\n",
    "V_e = [-3.0, -3.5, -4.0]\n",
    "V_p = [3.0, 3.5, 4.0, 4.5, 5.0]\n",
    "\n",
    "## nFET 10 us asymmetric program-erase\n",
    "for i in range(len(V_e)): \n",
    "    for j in range(len(V_p)):\n",
    "        gen_wvfm(Vprogram=V_p[j], Verase=V_e[i], Tdelay_start=10e-9, Tdelay_end=10, num_step=10, \n",
    "                 Tread=5e-4, Twait=1e-5, Trf=5e-8, Tpw=1e-5, Vread=2, Vdrain=0.05, points=200, ch1_range=0, ch2_range=2)\n",
    "\n",
    "## nFET 1 us asymmetric program-erase\n",
    "for i in range(len(V_e)): \n",
    "    for j in range(len(V_p)):\n",
    "        gen_wvfm(Vprogram=V_p[j], Verase=V_e[i], Tdelay_start=10e-9, Tdelay_end=10, num_step=10,\n",
    "                 Tread=5e-4, Twait=1e-5, Trf=5e-8, Tpw=1e-6, Vread=2, Vdrain=0.05, points=200, ch1_range=0, ch2_range=2)\n",
    "\n",
    "## nFET 100 ns asymmetric program-erase\n",
    "for i in range(len(V_e)): \n",
    "    for j in range(len(V_p)):\n",
    "        gen_wvfm(Vprogram=V_p[j], Verase=V_e[i], Tdelay_start=10e-9, Tdelay_end=10, num_step=10,\n",
    "                 Tread=5e-4, Twait=1e-5, Trf=5e-8, Tpw=1e-7, Vread=2, Vdrain=0.05, points=200, ch1_range=0, ch2_range=2)"
   ]
  },
  {
   "cell_type": "code",
   "execution_count": 167,
   "id": "4ff5f369",
   "metadata": {},
   "outputs": [
    {
     "name": "stdout",
     "output_type": "stream",
     "text": [
      "[Errno 17] File exists: '/Users/yejinhong/FeFET waveform/pFET asymmetric waveforms'\n"
     ]
    }
   ],
   "source": [
    "location = \"/Users/yejinhong/FeFET waveform\"\n",
    "dir = \"pFET asymmetric waveforms\"\n",
    "path = os.path.join(location,dir)\n",
    "\n",
    "# Trying to create a location+dir directory.\n",
    "try: \n",
    "    os.mkdir(path) \n",
    "except OSError as error: \n",
    "    print(error) \n",
    "    \n",
    "os.chdir(path)\n",
    "\n",
    "V_e = [3.0, 3.5, 4.0]\n",
    "V_p = [-3.0, -3.5, -4.0, -4.5, -5.0]\n",
    "\n",
    "## pFET 10 us asymmetric program-erase\n",
    "for i in range(len(V_e)): \n",
    "    for j in range(len(V_p)):\n",
    "        gen_wvfm(Vprogram=V_p[j], Verase=V_e[i], Tdelay_start=10e-9, Tdelay_end=10, num_step=10, \n",
    "                 Tread=5e-4, Twait=1e-5, Trf=5e-8, Tpw=1e-5, Vread=-2, Vdrain=-0.05, points=200, ch1_range=0, ch2_range=2)\n",
    "\n",
    "## pFET 1 us asymmetric program-erase\n",
    "for i in range(len(V_e)): \n",
    "    for j in range(len(V_p)):\n",
    "        gen_wvfm(Vprogram=V_p[j], Verase=V_e[i], Tdelay_start=10e-9, Tdelay_end=10, num_step=10,\n",
    "                 Tread=5e-4, Twait=1e-5, Trf=5e-8, Tpw=1e-6, Vread=-2, Vdrain=-0.05, points=200, ch1_range=0, ch2_range=2)\n",
    "\n",
    "## pFET 100 ns asymmetric program-erase\n",
    "for i in range(len(V_e)): \n",
    "    for j in range(len(V_p)):\n",
    "        gen_wvfm(Vprogram=V_p[j], Verase=V_e[i], Tdelay_start=10e-9, Tdelay_end=10, num_step=10,\n",
    "                 Tread=5e-4, Twait=1e-5, Trf=5e-8, Tpw=1e-7, Vread=-2, Vdrain=-0.05, points=200, ch1_range=0, ch2_range=2)"
   ]
  }
 ],
 "metadata": {
  "kernelspec": {
   "display_name": "Python 3 (ipykernel)",
   "language": "python",
   "name": "python3"
  },
  "language_info": {
   "codemirror_mode": {
    "name": "ipython",
    "version": 3
   },
   "file_extension": ".py",
   "mimetype": "text/x-python",
   "name": "python",
   "nbconvert_exporter": "python",
   "pygments_lexer": "ipython3",
   "version": "3.9.12"
  }
 },
 "nbformat": 4,
 "nbformat_minor": 5
}
